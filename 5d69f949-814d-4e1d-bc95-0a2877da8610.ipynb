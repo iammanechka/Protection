{
 "cells": [
  {
   "cell_type": "markdown",
   "metadata": {
    "toc": true
   },
   "source": [
    "<h1>Содержание<span class=\"tocSkip\"></span></h1>\n",
    "<div class=\"toc\"><ul class=\"toc-item\"><li><span><a href=\"#Загрузка-данных\" data-toc-modified-id=\"Загрузка-данных-1\"><span class=\"toc-item-num\">1&nbsp;&nbsp;</span>Загрузка данных</a></span></li><li><span><a href=\"#Умножение-матриц\" data-toc-modified-id=\"Умножение-матриц-2\"><span class=\"toc-item-num\">2&nbsp;&nbsp;</span>Умножение матриц</a></span></li><li><span><a href=\"#Алгоритм-преобразования\" data-toc-modified-id=\"Алгоритм-преобразования-3\"><span class=\"toc-item-num\">3&nbsp;&nbsp;</span>Алгоритм преобразования</a></span></li><li><span><a href=\"#Проверка-алгоритма\" data-toc-modified-id=\"Проверка-алгоритма-4\"><span class=\"toc-item-num\">4&nbsp;&nbsp;</span>Проверка алгоритма</a></span></li><li><span><a href=\"#Чек-лист-проверки\" data-toc-modified-id=\"Чек-лист-проверки-5\"><span class=\"toc-item-num\">5&nbsp;&nbsp;</span>Чек-лист проверки</a></span></li><li><span><a href=\"#Общий-вывод-по-проекту\" data-toc-modified-id=\"Общий-вывод-по-проекту-6\"><span class=\"toc-item-num\">6&nbsp;&nbsp;</span><b>Общий вывод по проекту</b></a></span></li><li><span><a href=\"#Общий-вывод-по-проекту-В2\" data-toc-modified-id=\"Общий-вывод-по-проекту-В2-7\"><span class=\"toc-item-num\">7&nbsp;&nbsp;</span><b>Общий вывод по проекту В2</b></a></span></li></ul></div>"
   ]
  },
  {
   "cell_type": "markdown",
   "metadata": {},
   "source": [
    "# Защита персональных данных клиентов"
   ]
  },
  {
   "cell_type": "markdown",
   "metadata": {},
   "source": [
    "Вам нужно защитить данные клиентов страховой компании «Хоть потоп». Разработайте такой метод преобразования данных, чтобы по ним было сложно восстановить персональную информацию. Обоснуйте корректность его работы.\n",
    "\n",
    "Нужно защитить данные, чтобы при преобразовании качество моделей машинного обучения не ухудшилось. Подбирать наилучшую модель не требуется."
   ]
  },
  {
   "cell_type": "markdown",
   "metadata": {},
   "source": [
    "## Загрузка данных"
   ]
  },
  {
   "cell_type": "code",
   "execution_count": 1,
   "metadata": {},
   "outputs": [],
   "source": [
    "import numpy as np\n",
    "import pandas as pd\n",
    "import seaborn as sns\n",
    "import matplotlib.pyplot as plt\n",
    "\n",
    "from sklearn.metrics import r2_score\n",
    "from sklearn.model_selection import train_test_split\n",
    "\n",
    "RANDOM_STATE = 12345"
   ]
  },
  {
   "cell_type": "code",
   "execution_count": 2,
   "metadata": {},
   "outputs": [],
   "source": [
    "def study(data): \n",
    "    info = display(data.head(10)), data.info(), display(data.describe())"
   ]
  },
  {
   "cell_type": "code",
   "execution_count": 3,
   "metadata": {},
   "outputs": [],
   "source": [
    "#Загружаем данные\n",
    "\n",
    "data = pd.read_csv('/datasets/insurance.csv')"
   ]
  },
  {
   "cell_type": "code",
   "execution_count": 4,
   "metadata": {
    "scrolled": true
   },
   "outputs": [
    {
     "data": {
      "text/html": [
       "<div>\n",
       "<style scoped>\n",
       "    .dataframe tbody tr th:only-of-type {\n",
       "        vertical-align: middle;\n",
       "    }\n",
       "\n",
       "    .dataframe tbody tr th {\n",
       "        vertical-align: top;\n",
       "    }\n",
       "\n",
       "    .dataframe thead th {\n",
       "        text-align: right;\n",
       "    }\n",
       "</style>\n",
       "<table border=\"1\" class=\"dataframe\">\n",
       "  <thead>\n",
       "    <tr style=\"text-align: right;\">\n",
       "      <th></th>\n",
       "      <th>Пол</th>\n",
       "      <th>Возраст</th>\n",
       "      <th>Зарплата</th>\n",
       "      <th>Члены семьи</th>\n",
       "      <th>Страховые выплаты</th>\n",
       "    </tr>\n",
       "  </thead>\n",
       "  <tbody>\n",
       "    <tr>\n",
       "      <th>0</th>\n",
       "      <td>1</td>\n",
       "      <td>41.0</td>\n",
       "      <td>49600.0</td>\n",
       "      <td>1</td>\n",
       "      <td>0</td>\n",
       "    </tr>\n",
       "    <tr>\n",
       "      <th>1</th>\n",
       "      <td>0</td>\n",
       "      <td>46.0</td>\n",
       "      <td>38000.0</td>\n",
       "      <td>1</td>\n",
       "      <td>1</td>\n",
       "    </tr>\n",
       "    <tr>\n",
       "      <th>2</th>\n",
       "      <td>0</td>\n",
       "      <td>29.0</td>\n",
       "      <td>21000.0</td>\n",
       "      <td>0</td>\n",
       "      <td>0</td>\n",
       "    </tr>\n",
       "    <tr>\n",
       "      <th>3</th>\n",
       "      <td>0</td>\n",
       "      <td>21.0</td>\n",
       "      <td>41700.0</td>\n",
       "      <td>2</td>\n",
       "      <td>0</td>\n",
       "    </tr>\n",
       "    <tr>\n",
       "      <th>4</th>\n",
       "      <td>1</td>\n",
       "      <td>28.0</td>\n",
       "      <td>26100.0</td>\n",
       "      <td>0</td>\n",
       "      <td>0</td>\n",
       "    </tr>\n",
       "    <tr>\n",
       "      <th>5</th>\n",
       "      <td>1</td>\n",
       "      <td>43.0</td>\n",
       "      <td>41000.0</td>\n",
       "      <td>2</td>\n",
       "      <td>1</td>\n",
       "    </tr>\n",
       "    <tr>\n",
       "      <th>6</th>\n",
       "      <td>1</td>\n",
       "      <td>39.0</td>\n",
       "      <td>39700.0</td>\n",
       "      <td>2</td>\n",
       "      <td>0</td>\n",
       "    </tr>\n",
       "    <tr>\n",
       "      <th>7</th>\n",
       "      <td>1</td>\n",
       "      <td>25.0</td>\n",
       "      <td>38600.0</td>\n",
       "      <td>4</td>\n",
       "      <td>0</td>\n",
       "    </tr>\n",
       "    <tr>\n",
       "      <th>8</th>\n",
       "      <td>1</td>\n",
       "      <td>36.0</td>\n",
       "      <td>49700.0</td>\n",
       "      <td>1</td>\n",
       "      <td>0</td>\n",
       "    </tr>\n",
       "    <tr>\n",
       "      <th>9</th>\n",
       "      <td>1</td>\n",
       "      <td>32.0</td>\n",
       "      <td>51700.0</td>\n",
       "      <td>1</td>\n",
       "      <td>0</td>\n",
       "    </tr>\n",
       "  </tbody>\n",
       "</table>\n",
       "</div>"
      ],
      "text/plain": [
       "   Пол  Возраст  Зарплата  Члены семьи  Страховые выплаты\n",
       "0    1     41.0   49600.0            1                  0\n",
       "1    0     46.0   38000.0            1                  1\n",
       "2    0     29.0   21000.0            0                  0\n",
       "3    0     21.0   41700.0            2                  0\n",
       "4    1     28.0   26100.0            0                  0\n",
       "5    1     43.0   41000.0            2                  1\n",
       "6    1     39.0   39700.0            2                  0\n",
       "7    1     25.0   38600.0            4                  0\n",
       "8    1     36.0   49700.0            1                  0\n",
       "9    1     32.0   51700.0            1                  0"
      ]
     },
     "metadata": {},
     "output_type": "display_data"
    },
    {
     "name": "stdout",
     "output_type": "stream",
     "text": [
      "<class 'pandas.core.frame.DataFrame'>\n",
      "RangeIndex: 5000 entries, 0 to 4999\n",
      "Data columns (total 5 columns):\n",
      " #   Column             Non-Null Count  Dtype  \n",
      "---  ------             --------------  -----  \n",
      " 0   Пол                5000 non-null   int64  \n",
      " 1   Возраст            5000 non-null   float64\n",
      " 2   Зарплата           5000 non-null   float64\n",
      " 3   Члены семьи        5000 non-null   int64  \n",
      " 4   Страховые выплаты  5000 non-null   int64  \n",
      "dtypes: float64(2), int64(3)\n",
      "memory usage: 195.4 KB\n"
     ]
    },
    {
     "data": {
      "text/html": [
       "<div>\n",
       "<style scoped>\n",
       "    .dataframe tbody tr th:only-of-type {\n",
       "        vertical-align: middle;\n",
       "    }\n",
       "\n",
       "    .dataframe tbody tr th {\n",
       "        vertical-align: top;\n",
       "    }\n",
       "\n",
       "    .dataframe thead th {\n",
       "        text-align: right;\n",
       "    }\n",
       "</style>\n",
       "<table border=\"1\" class=\"dataframe\">\n",
       "  <thead>\n",
       "    <tr style=\"text-align: right;\">\n",
       "      <th></th>\n",
       "      <th>Пол</th>\n",
       "      <th>Возраст</th>\n",
       "      <th>Зарплата</th>\n",
       "      <th>Члены семьи</th>\n",
       "      <th>Страховые выплаты</th>\n",
       "    </tr>\n",
       "  </thead>\n",
       "  <tbody>\n",
       "    <tr>\n",
       "      <th>count</th>\n",
       "      <td>5000.000000</td>\n",
       "      <td>5000.000000</td>\n",
       "      <td>5000.000000</td>\n",
       "      <td>5000.000000</td>\n",
       "      <td>5000.000000</td>\n",
       "    </tr>\n",
       "    <tr>\n",
       "      <th>mean</th>\n",
       "      <td>0.499000</td>\n",
       "      <td>30.952800</td>\n",
       "      <td>39916.360000</td>\n",
       "      <td>1.194200</td>\n",
       "      <td>0.148000</td>\n",
       "    </tr>\n",
       "    <tr>\n",
       "      <th>std</th>\n",
       "      <td>0.500049</td>\n",
       "      <td>8.440807</td>\n",
       "      <td>9900.083569</td>\n",
       "      <td>1.091387</td>\n",
       "      <td>0.463183</td>\n",
       "    </tr>\n",
       "    <tr>\n",
       "      <th>min</th>\n",
       "      <td>0.000000</td>\n",
       "      <td>18.000000</td>\n",
       "      <td>5300.000000</td>\n",
       "      <td>0.000000</td>\n",
       "      <td>0.000000</td>\n",
       "    </tr>\n",
       "    <tr>\n",
       "      <th>25%</th>\n",
       "      <td>0.000000</td>\n",
       "      <td>24.000000</td>\n",
       "      <td>33300.000000</td>\n",
       "      <td>0.000000</td>\n",
       "      <td>0.000000</td>\n",
       "    </tr>\n",
       "    <tr>\n",
       "      <th>50%</th>\n",
       "      <td>0.000000</td>\n",
       "      <td>30.000000</td>\n",
       "      <td>40200.000000</td>\n",
       "      <td>1.000000</td>\n",
       "      <td>0.000000</td>\n",
       "    </tr>\n",
       "    <tr>\n",
       "      <th>75%</th>\n",
       "      <td>1.000000</td>\n",
       "      <td>37.000000</td>\n",
       "      <td>46600.000000</td>\n",
       "      <td>2.000000</td>\n",
       "      <td>0.000000</td>\n",
       "    </tr>\n",
       "    <tr>\n",
       "      <th>max</th>\n",
       "      <td>1.000000</td>\n",
       "      <td>65.000000</td>\n",
       "      <td>79000.000000</td>\n",
       "      <td>6.000000</td>\n",
       "      <td>5.000000</td>\n",
       "    </tr>\n",
       "  </tbody>\n",
       "</table>\n",
       "</div>"
      ],
      "text/plain": [
       "               Пол      Возраст      Зарплата  Члены семьи  Страховые выплаты\n",
       "count  5000.000000  5000.000000   5000.000000  5000.000000        5000.000000\n",
       "mean      0.499000    30.952800  39916.360000     1.194200           0.148000\n",
       "std       0.500049     8.440807   9900.083569     1.091387           0.463183\n",
       "min       0.000000    18.000000   5300.000000     0.000000           0.000000\n",
       "25%       0.000000    24.000000  33300.000000     0.000000           0.000000\n",
       "50%       0.000000    30.000000  40200.000000     1.000000           0.000000\n",
       "75%       1.000000    37.000000  46600.000000     2.000000           0.000000\n",
       "max       1.000000    65.000000  79000.000000     6.000000           5.000000"
      ]
     },
     "metadata": {},
     "output_type": "display_data"
    }
   ],
   "source": [
    "study(data)"
   ]
  },
  {
   "cell_type": "code",
   "execution_count": 5,
   "metadata": {},
   "outputs": [
    {
     "data": {
      "text/plain": [
       "array([41., 46., 29., 21., 28., 43., 39., 25., 36., 32., 38., 23., 40.,\n",
       "       34., 26., 42., 27., 33., 47., 30., 19., 31., 22., 20., 24., 18.,\n",
       "       37., 48., 45., 44., 52., 49., 35., 56., 65., 55., 57., 54., 50.,\n",
       "       53., 51., 58., 59., 60., 61., 62.])"
      ]
     },
     "execution_count": 5,
     "metadata": {},
     "output_type": "execute_result"
    }
   ],
   "source": [
    "#Посмотрим уникальные значения\n",
    "\n",
    "data['Возраст'].unique()"
   ]
  },
  {
   "cell_type": "markdown",
   "metadata": {},
   "source": [
    "Можем заметить, что данные в столбце **Возраст** являются целочисленными, изменим тип данных."
   ]
  },
  {
   "cell_type": "code",
   "execution_count": 6,
   "metadata": {},
   "outputs": [
    {
     "name": "stdout",
     "output_type": "stream",
     "text": [
      "<class 'pandas.core.frame.DataFrame'>\n",
      "RangeIndex: 5000 entries, 0 to 4999\n",
      "Data columns (total 5 columns):\n",
      " #   Column             Non-Null Count  Dtype  \n",
      "---  ------             --------------  -----  \n",
      " 0   Пол                5000 non-null   int64  \n",
      " 1   Возраст            5000 non-null   int8   \n",
      " 2   Зарплата           5000 non-null   float64\n",
      " 3   Члены семьи        5000 non-null   int64  \n",
      " 4   Страховые выплаты  5000 non-null   int64  \n",
      "dtypes: float64(1), int64(3), int8(1)\n",
      "memory usage: 161.3 KB\n"
     ]
    }
   ],
   "source": [
    "data['Возраст'] = pd.to_numeric(data['Возраст'], downcast='integer')\n",
    "\n",
    "\n",
    "data.info()"
   ]
  },
  {
   "cell_type": "code",
   "execution_count": 7,
   "metadata": {},
   "outputs": [
    {
     "data": {
      "image/png": "[encoded data removed]",
      "text/plain": [
       "<Figure size 360x360 with 1 Axes>"
      ]
     },
     "metadata": {
      "needs_background": "light"
     },
     "output_type": "display_data"
    },
    {
     "data": {
      "image/png": "[encoded data removed]",
      "text/plain": [
       "<Figure size 360x360 with 1 Axes>"
      ]
     },
     "metadata": {
      "needs_background": "light"
     },
     "output_type": "display_data"
    },
    {
     "data": {
      "image/png": "[encoded data removed]",
      "text/plain": [
       "<Figure size 360x360 with 1 Axes>"
      ]
     },
     "metadata": {
      "needs_background": "light"
     },
     "output_type": "display_data"
    },
    {
     "data": {
      "image/png": "[encoded data removed]",
      "text/plain": [
       "<Figure size 360x360 with 1 Axes>"
      ]
     },
     "metadata": {
      "needs_background": "light"
     },
     "output_type": "display_data"
    },
    {
     "data": {
      "image/png": "[encoded data removed]",
      "text/plain": [
       "<Figure size 360x360 with 1 Axes>"
      ]
     },
     "metadata": {
      "needs_background": "light"
     },
     "output_type": "display_data"
    }
   ],
   "source": [
    "for i in data.columns:\n",
    "    sns.displot(data[i], kind='hist', color='#D8BFD8', kde=True)\n",
    "    plt.ylabel('Количество')\n",
    "plt.show();"
   ]
  },
  {
   "cell_type": "markdown",
   "metadata": {},
   "source": [
    "# Вывод\n",
    "\n",
    "**Признаки:** пол, возраст и зарплата застрахованного, количество членов его семьи.\n",
    "\n",
    "**Целевой признак:** количество страховых выплат клиенту за последние 5 лет.\n",
    "\n",
    "Визуально выбросов нет, пропуски также отсутствуют. Можем заметить, что мужчин и женщин приблизительно равное количество. Большиснство людей находятся в возрасте от 20 до 35 лет и имеют заработную плату около 45 тысяч. Они либо одиноки, либо имеют пару, но без детей. Страховые выплаты редкость, но можем заметить, что была ситуация, когда на одного человека приходилось 5 выплат.  \n",
    "\n",
    "Изменили тип данных в столбце **Возраст**. \n",
    "\n",
    "Данные изучены и подготовлены для дальнейшей работы. "
   ]
  },
  {
   "cell_type": "markdown",
   "metadata": {},
   "source": [
    "## Умножение матриц"
   ]
  },
  {
   "cell_type": "markdown",
   "metadata": {},
   "source": [
    "В этом задании вы можете записывать формулы в *Jupyter Notebook.*\n",
    "\n",
    "Чтобы записать формулу внутри текста, окружите её символами доллара \\\\$; если снаружи —  двойными символами \\\\$\\\\$. Эти формулы записываются на языке вёрстки *LaTeX.* \n",
    "\n",
    "Для примера мы записали формулы линейной регрессии. Можете их скопировать и отредактировать, чтобы решить задачу.\n",
    "\n",
    "Работать в *LaTeX* необязательно."
   ]
  },
  {
   "cell_type": "markdown",
   "metadata": {},
   "source": [
    "Обозначения:\n",
    "\n",
    "- $X$ — матрица признаков (нулевой столбец состоит из единиц)\n",
    "\n",
    "- $y$ — вектор целевого признака\n",
    "\n",
    "- $P$ — матрица, на которую умножаются признаки\n",
    "\n",
    "- $w$ — вектор весов линейной регрессии (нулевой элемент равен сдвигу)"
   ]
  },
  {
   "cell_type": "markdown",
   "metadata": {},
   "source": [
    "Предсказания:\n",
    "\n",
    "$$\n",
    "a = Xw\n",
    "$$\n",
    "\n",
    "Задача обучения:\n",
    "\n",
    "$$\n",
    "w = \\arg\\min_w MSE(Xw, y)\n",
    "$$\n",
    "\n",
    "Формула обучения:\n",
    "\n",
    "$$\n",
    "w = (X^T X)^{-1} X^T y\n",
    "$$"
   ]
  },
  {
   "cell_type": "markdown",
   "metadata": {},
   "source": [
    "**Ответ:** Качество не изменится\n",
    "\n",
    "**Обоснование:**\n",
    "\n",
    "Обозначим новую матрицу признаков $X_1$ как произведение старой $X$ на матрицу $P$(обратимую):\n",
    "$$X_1 = XP$$"
   ]
  },
  {
   "cell_type": "markdown",
   "metadata": {},
   "source": [
    "Получившеся значение $X_1$ подставим в формулу для расчета $w_1$:\n",
    "$$w_1=((XP)^TXP)^{−1}(XP)^Ty$$"
   ]
  },
  {
   "cell_type": "markdown",
   "metadata": {},
   "source": [
    "Раскроем скобки произведения $(XP)^T$, по правилам каждая матрица возводится в степень $T$:\n",
    "    $$w_1=(P^TX^TXP)^{-1}P^TX^Ty$$"
   ]
  },
  {
   "cell_type": "markdown",
   "metadata": {},
   "source": [
    "Постепенно будем раскрывать скобки и возводить в степень:\n",
    " $$w_1=([P^TX^TX]P)^{-1}P^TX^Ty$$\n",
    " \n",
    "  $$w_1=P^{-1}[P^T(X^TX)])^{-1}P^TX^Ty$$"
   ]
  },
  {
   "cell_type": "markdown",
   "metadata": {},
   "source": [
    "$$w_1=P^{-1}(X^TX)^{-1}(P^T)^{-1}P^TX^Ty$$"
   ]
  },
  {
   "cell_type": "markdown",
   "metadata": {},
   "source": [
    "Так как $P$ обратимая, то произведение  $(P^T)^{−1}P^T$ равно $E$(единичная матрица). Перегруппируем множители для наглядности и произведем замену:\n",
    "$$w_1=P^{-1}(X^TX)^{-1}EX^Ty=P^{-1}(X^TX)^{-1}X^Ty$$"
   ]
  },
  {
   "cell_type": "markdown",
   "metadata": {},
   "source": [
    "Обратим внимание, что можем произвести еще одну замену на $w = (X^T X)^{-1} X^T y$:\n",
    "$$w_1=P^{-1}(X^TX)^{-1}X^Ty=P^{-1}w$$ \n",
    "(здесь мы видим связь параметров $w$ и $w_1$)."
   ]
  },
  {
   "cell_type": "markdown",
   "metadata": {},
   "source": [
    "Предсказания модели расчитываются по формуле:\n",
    "$$a=Xw$$"
   ]
  },
  {
   "cell_type": "markdown",
   "metadata": {},
   "source": [
    "Подставим в эту формулу значения $X_1 = XP$ и $w_1=P^{-1}w$ , чтобы вычислить предсказания модели $a_1$:\n",
    "$$a_1=X_1w_1=XPP^{-1}w$$"
   ]
  },
  {
   "cell_type": "markdown",
   "metadata": {},
   "source": [
    "По условию $P$ обратимая, произведение $PP^{−1}$ равно $E$(единичная матрица):\n",
    "$$a_1=XPP^{-1}w=XEw=Xw=a$$"
   ]
  },
  {
   "cell_type": "markdown",
   "metadata": {},
   "source": [
    "Было доказано, что предсказания $a_1$ для матрицы признаков умноженных на обратимую матрицу $P$ равны предсказаниям $a$. То есть качество предсказаний не изменится. Параметры линейной регрессии $w$ и $w_1$ связаны подобным образом: $w_1=P^{-1}w$."
   ]
  },
  {
   "cell_type": "markdown",
   "metadata": {},
   "source": [
    "## Алгоритм преобразования"
   ]
  },
  {
   "cell_type": "markdown",
   "metadata": {},
   "source": [
    "**Алгоритм**\n",
    "\n",
    "1) Нужно создать случайную матрицу;\n",
    "\n",
    "2) Выполнить проверку на обратимость;\n",
    "\n",
    "3) Видоизменить данные, произведя умножение исходной матрицы на случайную;\n",
    "\n",
    "4) Сравнивнить метрики на исходных и видоизменных данных.\n"
   ]
  },
  {
   "cell_type": "markdown",
   "metadata": {},
   "source": [
    "**Обоснование**\n",
    "\n",
    "Данные будут зашифрованы, случайным образом их не вычислишь. Такой алгоритм, как было доказано ранее, не влияет на качество предсказаний, поэтому его можно считать стабильным."
   ]
  },
  {
   "cell_type": "markdown",
   "metadata": {},
   "source": [
    "## Проверка алгоритма"
   ]
  },
  {
   "cell_type": "markdown",
   "metadata": {},
   "source": [
    "Выделим целевой признак и разделим данные на тестовую и тренировочную выборки."
   ]
  },
  {
   "cell_type": "code",
   "execution_count": 8,
   "metadata": {},
   "outputs": [],
   "source": [
    "features=data.drop(['Страховые выплаты'],axis=1)\n",
    "\n",
    "target=data['Страховые выплаты']\n",
    "\n",
    "features_train, features_test, target_train, target_test = train_test_split(features, target, \n",
    "                                                                            random_state=RANDOM_STATE,shuffle=True, \n",
    "                                                                            test_size=0.25)"
   ]
  },
  {
   "cell_type": "code",
   "execution_count": 9,
   "metadata": {},
   "outputs": [
    {
     "name": "stdout",
     "output_type": "stream",
     "text": [
      "Значение метрики R2: 0.44\n"
     ]
    }
   ],
   "source": [
    "#Создадим модель линейной регрессии\n",
    "\n",
    "class LinearRegression:\n",
    "    def fit(self, features_train, target_train):\n",
    "        X = np.concatenate((np.ones((features_train.shape[0], 1)), features_train), axis=1)\n",
    "        y = target_train\n",
    "        w =  np.linalg.inv(X.T.dot(X)).dot(X.T).dot(y)\n",
    "        self.w = w[1:]\n",
    "        self.w0 = w[0]\n",
    "\n",
    "    def predict(self, features_test):\n",
    "        return features_test.dot(self.w) + self.w0\n",
    "    \n",
    "model = LinearRegression()\n",
    "\n",
    "model.fit(features_train, target_train)\n",
    "\n",
    "predictions = model.predict(features_test)\n",
    "\n",
    "print('Значение метрики R2:',(r2_score(target_test, predictions)).round(2))"
   ]
  },
  {
   "cell_type": "code",
   "execution_count": 10,
   "metadata": {
    "scrolled": true
   },
   "outputs": [
    {
     "data": {
      "text/plain": [
       "(5000, 4)"
      ]
     },
     "execution_count": 10,
     "metadata": {},
     "output_type": "execute_result"
    }
   ],
   "source": [
    "#Посмотрим на размер признаков, чтобы определиться с размером случайной матрицы\n",
    "\n",
    "features.shape"
   ]
  },
  {
   "cell_type": "markdown",
   "metadata": {},
   "source": [
    "Нам нужно создать случайную матрицу размером 4х4."
   ]
  },
  {
   "cell_type": "code",
   "execution_count": 11,
   "metadata": {},
   "outputs": [
    {
     "data": {
      "text/plain": [
       "array([[ 0, 14,  6,  7],\n",
       "       [14, 12,  9, 16],\n",
       "       [ 9,  6,  7,  2],\n",
       "       [ 9,  9,  2,  0]])"
      ]
     },
     "execution_count": 11,
     "metadata": {},
     "output_type": "execute_result"
    }
   ],
   "source": [
    "#Сгенерируем матрицу\n",
    "\n",
    "matrix_random = np.random.randint(17, size=(4, 4))\n",
    "\n",
    "matrix_random"
   ]
  },
  {
   "cell_type": "code",
   "execution_count": 12,
   "metadata": {},
   "outputs": [
    {
     "data": {
      "text/plain": [
       "array([[-0.06692726,  0.02907808,  0.00162075,  0.06425779],\n",
       "       [ 0.05853752, -0.01973496, -0.04700162,  0.07770045],\n",
       "       [ 0.03775384, -0.04204405,  0.20421394, -0.13881209],\n",
       "       [-0.00657832,  0.07550767, -0.08103728, -0.03641911]])"
      ]
     },
     "execution_count": 12,
     "metadata": {},
     "output_type": "execute_result"
    }
   ],
   "source": [
    "#Выполним проверку на обратимость\n",
    "\n",
    "np.linalg.inv(matrix_random)"
   ]
  },
  {
   "cell_type": "markdown",
   "metadata": {},
   "source": [
    "Матрица обратима, зашифруем наши данные."
   ]
  },
  {
   "cell_type": "code",
   "execution_count": 13,
   "metadata": {},
   "outputs": [],
   "source": [
    "#Для проверки алгоритма создадим отдельные переменные,чтобы никак не повлиять на исходные данные\n",
    "\n",
    "features_train_rm = features_train.dot(matrix_random)\n",
    "\n",
    "features_test_rm = features_test.dot(matrix_random)"
   ]
  },
  {
   "cell_type": "code",
   "execution_count": 15,
   "metadata": {},
   "outputs": [
    {
     "name": "stdout",
     "output_type": "stream",
     "text": [
      "Значение метрики R2: 0.44\n"
     ]
    }
   ],
   "source": [
    "#Посмотрим значение метрики модели на зашифрованных данных\n",
    "\n",
    "model = LinearRegression()\n",
    "\n",
    "model.fit(features_train_rm, target_train)\n",
    "\n",
    "predictions = model.predict(features_test_rm)\n",
    "\n",
    "print('Значение метрики R2:',(r2_score(target_test, predictions)).round(2))"
   ]
  },
  {
   "cell_type": "markdown",
   "metadata": {},
   "source": [
    "# Вывод\n",
    "\n",
    "Исходные данные были готовы для работы, мы изменили только тип данных в столбце **Возраст**. Изучили данные и составили \"портрет\" клиента компании \"Хоть потоп\", основываясь на наиболее распространненых данных о клиентах. \n",
    "\n",
    "Решили задачу **Признаки умножают на обратимую матрицу. Изменится ли качество линейной регрессии?**. Доказали, что качество предсказаний не изменится. \n",
    "\n",
    "Написали алгоритм, основанный на доказательстве нашей задачи, проверили его работу.\n",
    "\n",
    "Сравнили метрики R2 на исходных и зашифрованных данных, они оказались равны **0.44**, что еще раз доказало правильность нашего решения. "
   ]
  }
 ],
 "metadata": {
  "ExecuteTimeLog": [
   {
    "duration": 7,
    "start_time": "2023-07-30T09:36:33.385Z"
   },
   {
    "duration": 3,
    "start_time": "2023-07-30T09:38:05.665Z"
   },
   {
    "duration": 1542,
    "start_time": "2023-07-30T09:38:19.769Z"
   },
   {
    "duration": 3,
    "start_time": "2023-07-30T09:38:25.526Z"
   },
   {
    "duration": 87,
    "start_time": "2023-07-30T09:38:29.165Z"
   },
   {
    "duration": 39,
    "start_time": "2023-07-30T09:38:49.714Z"
   },
   {
    "duration": 1868,
    "start_time": "2023-07-30T10:14:20.282Z"
   },
   {
    "duration": 14,
    "start_time": "2023-07-30T10:14:33.070Z"
   },
   {
    "duration": 6,
    "start_time": "2023-07-30T10:16:32.166Z"
   },
   {
    "duration": 6,
    "start_time": "2023-07-30T10:16:51.764Z"
   },
   {
    "duration": 9,
    "start_time": "2023-07-30T10:16:54.571Z"
   },
   {
    "duration": 2235,
    "start_time": "2023-07-30T10:20:04.849Z"
   },
   {
    "duration": 14,
    "start_time": "2023-07-30T10:23:56.502Z"
   },
   {
    "duration": 14,
    "start_time": "2023-07-30T10:26:49.991Z"
   },
   {
    "duration": 15,
    "start_time": "2023-07-30T10:27:03.833Z"
   },
   {
    "duration": 5,
    "start_time": "2023-07-30T10:33:40.498Z"
   },
   {
    "duration": 5,
    "start_time": "2023-07-30T10:33:42.991Z"
   },
   {
    "duration": 18,
    "start_time": "2023-07-30T10:33:58.769Z"
   },
   {
    "duration": 29,
    "start_time": "2023-07-30T10:34:31.365Z"
   },
   {
    "duration": 15,
    "start_time": "2023-07-30T10:34:36.665Z"
   },
   {
    "duration": 22,
    "start_time": "2023-07-30T10:36:45.516Z"
   },
   {
    "duration": 15,
    "start_time": "2023-07-30T10:38:19.002Z"
   },
   {
    "duration": 12,
    "start_time": "2023-07-30T10:38:26.488Z"
   },
   {
    "duration": 14,
    "start_time": "2023-07-30T10:39:38.786Z"
   },
   {
    "duration": 14,
    "start_time": "2023-07-30T10:40:16.472Z"
   },
   {
    "duration": 19,
    "start_time": "2023-07-30T10:41:35.364Z"
   },
   {
    "duration": 20,
    "start_time": "2023-07-30T10:43:49.800Z"
   },
   {
    "duration": 15,
    "start_time": "2023-07-30T10:57:26.287Z"
   },
   {
    "duration": 13,
    "start_time": "2023-07-30T10:58:06.095Z"
   },
   {
    "duration": 6,
    "start_time": "2023-07-30T10:58:12.898Z"
   },
   {
    "duration": 29,
    "start_time": "2023-07-30T10:59:10.564Z"
   },
   {
    "duration": 5,
    "start_time": "2023-07-30T10:59:16.664Z"
   },
   {
    "duration": 17,
    "start_time": "2023-07-30T10:59:20.033Z"
   },
   {
    "duration": 2799,
    "start_time": "2023-07-30T11:07:06.908Z"
   },
   {
    "duration": 141,
    "start_time": "2023-07-30T11:07:42.232Z"
   },
   {
    "duration": 157,
    "start_time": "2023-07-30T11:08:19.279Z"
   },
   {
    "duration": 10,
    "start_time": "2023-07-30T11:08:59.679Z"
   },
   {
    "duration": 1383,
    "start_time": "2023-07-30T11:10:01.976Z"
   },
   {
    "duration": 2627,
    "start_time": "2023-07-30T11:10:44.192Z"
   },
   {
    "duration": 2725,
    "start_time": "2023-07-30T11:13:28.326Z"
   },
   {
    "duration": 110,
    "start_time": "2023-07-30T11:34:53.669Z"
   },
   {
    "duration": 281,
    "start_time": "2023-07-30T11:35:34.336Z"
   },
   {
    "duration": 337,
    "start_time": "2023-07-30T11:36:35.128Z"
   },
   {
    "duration": 964,
    "start_time": "2023-07-30T11:36:48.665Z"
   },
   {
    "duration": 855,
    "start_time": "2023-07-30T11:38:10.205Z"
   },
   {
    "duration": 1484,
    "start_time": "2023-07-30T11:39:48.561Z"
   },
   {
    "duration": 4844,
    "start_time": "2023-07-30T11:40:07.214Z"
   },
   {
    "duration": 197,
    "start_time": "2023-07-30T11:41:18.438Z"
   },
   {
    "duration": 223,
    "start_time": "2023-07-30T11:42:01.086Z"
   },
   {
    "duration": 163,
    "start_time": "2023-07-30T11:42:15.724Z"
   },
   {
    "duration": 16,
    "start_time": "2023-07-30T11:42:42.506Z"
   },
   {
    "duration": 14,
    "start_time": "2023-07-30T11:43:36.811Z"
   },
   {
    "duration": 2019,
    "start_time": "2023-07-30T11:43:50.857Z"
   },
   {
    "duration": 3021,
    "start_time": "2023-07-30T11:44:28.016Z"
   },
   {
    "duration": 2890,
    "start_time": "2023-07-30T11:46:42.722Z"
   },
   {
    "duration": 185,
    "start_time": "2023-07-30T11:48:02.097Z"
   },
   {
    "duration": 22,
    "start_time": "2023-07-30T11:48:28.777Z"
   },
   {
    "duration": 290,
    "start_time": "2023-07-30T11:48:49.470Z"
   },
   {
    "duration": 2915,
    "start_time": "2023-07-30T11:49:10.302Z"
   },
   {
    "duration": 104,
    "start_time": "2023-07-30T12:17:03.761Z"
   },
   {
    "duration": 4,
    "start_time": "2023-07-30T13:43:21.712Z"
   },
   {
    "duration": 7,
    "start_time": "2023-07-30T13:43:48.816Z"
   },
   {
    "duration": 9,
    "start_time": "2023-07-30T13:46:36.948Z"
   },
   {
    "duration": 4,
    "start_time": "2023-07-30T13:59:18.266Z"
   },
   {
    "duration": 3,
    "start_time": "2023-07-30T13:59:35.002Z"
   },
   {
    "duration": 6,
    "start_time": "2023-07-30T14:00:01.238Z"
   },
   {
    "duration": 11,
    "start_time": "2023-07-30T14:06:01.357Z"
   },
   {
    "duration": 111,
    "start_time": "2023-07-30T14:07:27.077Z"
   },
   {
    "duration": 4,
    "start_time": "2023-07-30T14:07:32.049Z"
   },
   {
    "duration": 5,
    "start_time": "2023-07-30T14:07:45.341Z"
   },
   {
    "duration": 5,
    "start_time": "2023-07-30T14:12:50.840Z"
   },
   {
    "duration": 5,
    "start_time": "2023-07-30T14:13:46.740Z"
   },
   {
    "duration": 9,
    "start_time": "2023-07-30T14:18:03.646Z"
   },
   {
    "duration": 4,
    "start_time": "2023-07-30T14:18:51.584Z"
   },
   {
    "duration": 3,
    "start_time": "2023-07-30T14:19:44.762Z"
   },
   {
    "duration": 4,
    "start_time": "2023-07-30T14:20:40.086Z"
   },
   {
    "duration": 12,
    "start_time": "2023-07-30T14:22:09.093Z"
   },
   {
    "duration": 6,
    "start_time": "2023-07-30T14:23:12.155Z"
   },
   {
    "duration": 9,
    "start_time": "2023-07-30T14:23:34.248Z"
   },
   {
    "duration": 10,
    "start_time": "2023-07-30T14:23:49.251Z"
   },
   {
    "duration": 1524,
    "start_time": "2023-07-30T14:24:08.497Z"
   },
   {
    "duration": 3,
    "start_time": "2023-07-30T14:24:10.023Z"
   },
   {
    "duration": 38,
    "start_time": "2023-07-30T14:24:10.028Z"
   },
   {
    "duration": 45,
    "start_time": "2023-07-30T14:24:10.069Z"
   },
   {
    "duration": 5,
    "start_time": "2023-07-30T14:24:10.116Z"
   },
   {
    "duration": 11,
    "start_time": "2023-07-30T14:24:10.123Z"
   },
   {
    "duration": 2686,
    "start_time": "2023-07-30T14:24:10.157Z"
   },
   {
    "duration": 16,
    "start_time": "2023-07-30T14:24:12.845Z"
   },
   {
    "duration": 10,
    "start_time": "2023-07-30T14:24:12.863Z"
   },
   {
    "duration": 5,
    "start_time": "2023-07-30T14:24:12.876Z"
   },
   {
    "duration": 6,
    "start_time": "2023-07-30T14:24:12.957Z"
   },
   {
    "duration": 93,
    "start_time": "2023-07-30T14:24:12.965Z"
   },
   {
    "duration": 5,
    "start_time": "2023-07-30T14:24:13.061Z"
   },
   {
    "duration": 92,
    "start_time": "2023-07-30T14:24:13.070Z"
   },
   {
    "duration": 4,
    "start_time": "2023-07-30T14:26:47.881Z"
   },
   {
    "duration": 5,
    "start_time": "2023-07-30T14:26:51.317Z"
   },
   {
    "duration": 5,
    "start_time": "2023-07-30T14:26:57.055Z"
   },
   {
    "duration": 7,
    "start_time": "2023-07-30T14:26:59.114Z"
   },
   {
    "duration": 4,
    "start_time": "2023-07-30T14:27:26.513Z"
   },
   {
    "duration": 5,
    "start_time": "2023-07-30T14:27:29.276Z"
   },
   {
    "duration": 4,
    "start_time": "2023-07-30T14:27:35.288Z"
   },
   {
    "duration": 8,
    "start_time": "2023-07-30T14:27:37.100Z"
   },
   {
    "duration": 1709,
    "start_time": "2023-07-30T14:46:06.770Z"
   },
   {
    "duration": 118,
    "start_time": "2023-07-30T14:48:08.415Z"
   },
   {
    "duration": 1850,
    "start_time": "2023-07-30T14:49:01.784Z"
   },
   {
    "duration": 1829,
    "start_time": "2023-07-30T14:50:46.846Z"
   },
   {
    "duration": 1767,
    "start_time": "2023-07-30T14:51:15.001Z"
   },
   {
    "duration": 1480,
    "start_time": "2023-07-30T15:22:30.021Z"
   },
   {
    "duration": 3,
    "start_time": "2023-07-30T15:22:31.502Z"
   },
   {
    "duration": 56,
    "start_time": "2023-07-30T15:22:31.507Z"
   },
   {
    "duration": 59,
    "start_time": "2023-07-30T15:22:31.566Z"
   },
   {
    "duration": 5,
    "start_time": "2023-07-30T15:22:31.626Z"
   },
   {
    "duration": 44,
    "start_time": "2023-07-30T15:22:31.632Z"
   },
   {
    "duration": 1896,
    "start_time": "2023-07-30T15:22:31.678Z"
   },
   {
    "duration": 7,
    "start_time": "2023-07-30T15:22:33.576Z"
   },
   {
    "duration": 10,
    "start_time": "2023-07-30T15:22:33.585Z"
   },
   {
    "duration": 61,
    "start_time": "2023-07-30T15:22:33.598Z"
   },
   {
    "duration": 19,
    "start_time": "2023-07-30T15:22:33.661Z"
   },
   {
    "duration": 93,
    "start_time": "2023-07-30T15:22:33.681Z"
   },
   {
    "duration": 12,
    "start_time": "2023-07-30T15:22:33.776Z"
   },
   {
    "duration": 20,
    "start_time": "2023-07-30T15:22:33.864Z"
   },
   {
    "duration": 14,
    "start_time": "2023-07-30T15:24:37.155Z"
   }
  ],
  "kernelspec": {
   "display_name": "Python 3 (ipykernel)",
   "language": "python",
   "name": "python3"
  },
  "language_info": {
   "codemirror_mode": {
    "name": "ipython",
    "version": 3
   },
   "file_extension": ".py",
   "mimetype": "text/x-python",
   "name": "python",
   "nbconvert_exporter": "python",
   "pygments_lexer": "ipython3",
   "version": "3.9.5"
  },
  "toc": {
   "base_numbering": 1,
   "nav_menu": {},
   "number_sections": true,
   "sideBar": true,
   "skip_h1_title": true,
   "title_cell": "Содержание",
   "title_sidebar": "Contents",
   "toc_cell": true,
   "toc_position": {},
   "toc_section_display": true,
   "toc_window_display": true
  }
 },
 "nbformat": 4,
 "nbformat_minor": 2
}
